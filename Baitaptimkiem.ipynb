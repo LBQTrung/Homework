{
  "nbformat": 4,
  "nbformat_minor": 0,
  "metadata": {
    "colab": {
      "name": "Baitaptimkiem.ipynb",
      "provenance": [],
      "collapsed_sections": [],
      "authorship_tag": "ABX9TyM/tL8RzAoygh9jwD9PNzFF",
      "include_colab_link": true
    },
    "kernelspec": {
      "name": "python3",
      "display_name": "Python 3"
    },
    "language_info": {
      "name": "python"
    }
  },
  "cells": [
    {
      "cell_type": "markdown",
      "metadata": {
        "id": "view-in-github",
        "colab_type": "text"
      },
      "source": [
        "<a href=\"https://colab.research.google.com/github/LBQTrung/Homework/blob/main/Baitaptimkiem.ipynb\" target=\"_parent\"><img src=\"https://colab.research.google.com/assets/colab-badge.svg\" alt=\"Open In Colab\"/></a>"
      ]
    },
    {
      "cell_type": "markdown",
      "metadata": {
        "id": "WbiYcTOicDhR"
      },
      "source": [
        "Bài 1: Viết chương trình thực hiện các yêu cầu sau:\n",
        "- Sinh ngẫu nhiên 1 danh sách n số nguyên trong đoạn [a, b], với các thông số n, a và b được\n",
        "nhập vào từ bàn phím;\n",
        "- Nhập vào 1 số x từ bàn phím có giá trị trong đoạn [a, b];\n",
        "- Tìm kiếm x có xuất hiện trong danh sách trên hay không. Nếu có thì trả về vị trí xuất hiện\n",
        "đầu tiên trong danh sách. Ngược lại, thông báo không tìm thấy.\n"
      ]
    },
    {
      "cell_type": "code",
      "metadata": {
        "colab": {
          "base_uri": "https://localhost:8080/"
        },
        "id": "a4U-7OIvcHBK",
        "outputId": "7ce4a07d-fdbd-43a1-be16-e0e040f0e6f8"
      },
      "source": [
        "import random\n",
        "n = int(input(\"The number of list: \"))\n",
        "print(\"Enter the range [a,b] to random\")\n",
        "a = int(input(\"Enter a: \"))\n",
        "b = int(input(\"Enter b: \"))\n",
        "\n",
        "randomlist = [random.randrange(a,b+1) for i in range(0,n)]\n",
        "print(\"random list: \",randomlist)\n",
        "\n",
        "inputstring = \"Enter the number need to find (\" + str(a) +\" =< x <= \"+ str(b) +\"): \"\n",
        "x = int(input(inputstring))\n",
        "while (x < a) or (x > b):\n",
        "    print(\"Input error. Please try again\")\n",
        "    x = int(input(inputstring))\n",
        "\n",
        "\n",
        "if x in randomlist:\n",
        "    print(\"The first position in this list: \",randomlist.index(x)+1)\n",
        "else:\n",
        "    print(\"Not found\")\n"
      ],
      "execution_count": 1,
      "outputs": [
        {
          "output_type": "stream",
          "name": "stdout",
          "text": [
            "The number of list: 7\n",
            "Enter the range [a,b] to random\n",
            "Enter a: 0\n",
            "Enter b: 10\n",
            "random list:  [0, 9, 2, 7, 9, 4, 4]\n",
            "Enter the number need to find (0 =< x <= 10): 4\n",
            "The first position in this list:  6\n"
          ]
        }
      ]
    },
    {
      "cell_type": "markdown",
      "metadata": {
        "id": "DJc6qE1AcXPu"
      },
      "source": [
        "Bài 2: Viết chương trình thực hiện các yêu cầu sau:\n",
        "- Sinh ngẫu nhiên 1 danh sách n số nguyên trong đoạn [a, b], với các thông số n, a và b được\n",
        "nhập vào từ bàn phím;\n",
        "- Nhập vào 1 số x từ bàn phím có giá trị trong đoạn [a, b];\n",
        "- Tìm kiếm x có xuất hiện trong danh sách trên hay không theo yêu cầu sau:\n",
        "\n",
        "  o Nếu có thì trả về vị trí xuất hiện đầu tiên trong danh sách và thông báo số bước lặp\n",
        "đã thực hiện để tìm được phần tử này.\n",
        "\n",
        "  o Ngược lại, thông báo không tìm thấy."
      ]
    },
    {
      "cell_type": "code",
      "metadata": {
        "colab": {
          "base_uri": "https://localhost:8080/"
        },
        "id": "I9INcArscaQ8",
        "outputId": "c92a1b3f-46d9-4243-8a9c-91b08352dc5a"
      },
      "source": [
        "import random\n",
        "n = int(input(\"The number of list: \"))\n",
        "print(\"Enter the range [a,b] to random\")\n",
        "a = int(input(\"Enter a: \"))\n",
        "b = int(input(\"Enter b: \"))\n",
        "\n",
        "randomlist = [random.randrange(a,b+1) for i in range(0,n)]\n",
        "print(\"random list: \",randomlist)\n",
        "\n",
        "inputstring = \"Enter the number need to find (\" + str(a) +\" =< x <= \"+ str(b) +\"): \"\n",
        "x = int(input(inputstring))\n",
        "while (x < a) or (x > b):\n",
        "    print(\"Input error. Please try again\")\n",
        "    x = int(input(inputstring))\n",
        "\n",
        "countstep = 0\n",
        "for i in range(0,n):\n",
        "    if x == randomlist[i]:\n",
        "        print(\"The first position in random list: \",i+1)\n",
        "        countstep += 1\n",
        "        break\n",
        "    else:\n",
        "        countstep += 1\n",
        "if (countstep == n):\n",
        "    print(\"Not found\")\n",
        "else:\n",
        "    print(\"The number of step to find this number: \",countstep)"
      ],
      "execution_count": 2,
      "outputs": [
        {
          "output_type": "stream",
          "name": "stdout",
          "text": [
            "The number of list: 10\n",
            "Enter the range [a,b] to random\n",
            "Enter a: 10\n",
            "Enter b: 20\n",
            "random list:  [18, 19, 13, 10, 17, 16, 13, 18, 10, 13]\n",
            "Enter the number need to find (10 =< x <= 20): 1\n",
            "Input error. Please try again\n",
            "Enter the number need to find (10 =< x <= 20): 11\n",
            "Not found\n"
          ]
        }
      ]
    },
    {
      "cell_type": "markdown",
      "metadata": {
        "id": "d_E12XIgc2ok"
      },
      "source": [
        "Bài 3: Viết chương trình thực hiện các yêu cầu sau:\n",
        "- Bước 1: Sinh ngẫu nhiên 1 danh sách n số nguyên trong đoạn [a, b], với các thông số n, a\n",
        "và b được nhập vào từ bàn phím;\n",
        "- Bước 2: Nhập vào 1 số x từ bàn phím có giá trị trong đoạn [a, b];\n",
        "- Bước 3: Sắp xếp danh sách trên theo chiều tăng dần\n",
        "- Bước 4: Tìm kiếm x có xuất hiện trong danh sách trên hay không theo yêu cầu sau:\n",
        "\n",
        "  o Nếu có thì trả về vị trí xuất hiện đầu tiên trong danh sách và thông báo số bước lặp\n",
        "đã thực hiện để tìm được phần tử này.\n",
        "  \n",
        "  o Ngược lại, thông báo không tìm thấy."
      ]
    },
    {
      "cell_type": "code",
      "metadata": {
        "colab": {
          "base_uri": "https://localhost:8080/"
        },
        "id": "Wk28Hx64c82s",
        "outputId": "0bec7099-8446-4894-a97c-f12717905e28"
      },
      "source": [
        "import random\n",
        "\n",
        "#Step 1: Input the random list\n",
        "n = int(input(\"The number of list: \"))\n",
        "print(\"Enter the range [a,b] to random\")\n",
        "a = int(input(\"Enter a: \"))\n",
        "b = int(input(\"Enter b: \"))\n",
        "randomlist = [random.randrange(a,b+1) for i in range(0,n)]\n",
        "print(\"random list: \",randomlist)\n",
        "\n",
        "#Step 2: Check the option of user\n",
        "inputstring = \"Enter the number need to find (\" + str(a) +\" =< x <= \"+ str(b) +\"): \"\n",
        "x = int(input(inputstring))\n",
        "while (x < a) or (x > b):\n",
        "    print(\"Input error. Please try again\")\n",
        "    x = int(input(inputstring))\n",
        "\n",
        "#Step 3: Sort random list ascending order\n",
        "for i in range(0,len(randomlist)-1):\n",
        "    for j in range(i+1,len(randomlist)):\n",
        "        if randomlist[i] > randomlist[j]:\n",
        "            randomlist[i],randomlist[j] = randomlist[j],randomlist[i]\n",
        "print(\"List after sort ascending order: \",randomlist)\n",
        "\n",
        "#Step 4: Find the number\n",
        "countloopstep = 0\n",
        "for i in range(0,n):\n",
        "    if x == randomlist[i]:\n",
        "        print(\"The first position in random list: \",i+1)\n",
        "        countloopstep += 1\n",
        "        break\n",
        "    else:\n",
        "        countloopstep += 1\n",
        "if (countloopstep == n):\n",
        "    print(\"Not found\")\n",
        "else:\n",
        "    print(\"The number of loop step to find this number: \",countloopstep)"
      ],
      "execution_count": 3,
      "outputs": [
        {
          "output_type": "stream",
          "name": "stdout",
          "text": [
            "The number of list: 10\n",
            "Enter the range [a,b] to random\n",
            "Enter a: 0\n",
            "Enter b: 20\n",
            "random list:  [10, 8, 17, 4, 19, 3, 11, 0, 7, 17]\n",
            "Enter the number need to find (0 =< x <= 20): 17\n",
            "List after sort ascending order:  [0, 3, 4, 7, 8, 10, 11, 17, 17, 19]\n",
            "The first position in random list:  8\n",
            "The number of loop step to find this number:  8\n"
          ]
        }
      ]
    },
    {
      "cell_type": "markdown",
      "metadata": {
        "id": "2vN1ynFtdOP3"
      },
      "source": [
        "Bài 4: Viết chương trình thực hiện các yêu cầu sau:\n",
        "- Bước 1: Sinh ngẫu nhiên 1 danh sách n số nguyên trong đoạn [a, b], với các thông số n, a\n",
        "và b được nhập vào từ bàn phím;\n",
        "- Bước 2: Nhập vào 1 số x từ bàn phím có giá trị trong đoạn [a, b];\n",
        "\n",
        "- Bước 3: Sắp xếp danh sách trên theo chiều tăng dần\n",
        "- Bước 4: Tìm kiếm x có xuất hiện trong danh sách trên hay không theo yêu cầu sau:\n",
        "\n",
        "  o Nếu có thì trả về tất cả các vị trí xuất hiện trong danh sách và thông báo số bước\n",
        "lặp đã thực hiện để tìm được các phần tử này.\n",
        "\n",
        "  o Ngược lại, thông báo không tìm thấy."
      ]
    },
    {
      "cell_type": "code",
      "metadata": {
        "colab": {
          "base_uri": "https://localhost:8080/"
        },
        "id": "W4UovvMpdS8U",
        "outputId": "5b897ea1-ba39-4d7a-b20b-7af9d4979676"
      },
      "source": [
        "import random\n",
        "\n",
        "#Step 1: Input the random list\n",
        "n = int(input(\"The number of list: \"))\n",
        "print(\"Enter the range [a,b] to random\")\n",
        "a = int(input(\"Enter a: \"))\n",
        "b = int(input(\"Enter b: \"))\n",
        "randomlist = [random.randrange(a,b+1) for i in range(0,n)]\n",
        "print(\"random list: \",randomlist)\n",
        "\n",
        "#Step 2: Check the option of user\n",
        "inputstring = \"Enter the number need to find (\" + str(a) +\" =< x <= \"+ str(b) +\"): \"\n",
        "x = int(input(inputstring))\n",
        "while (x < a) or (x > b):\n",
        "    print(\"Input error. Please try again\")\n",
        "    x = int(input(inputstring))\n",
        "\n",
        "#Step 3: Sort random list ascending order\n",
        "for i in range(0,len(randomlist)-1):\n",
        "    for j in range(i+1,len(randomlist)):\n",
        "        if randomlist[i] > randomlist[j]:\n",
        "            randomlist[i],randomlist[j] = randomlist[j],randomlist[i]\n",
        "print(\"List after sort ascending order: \",randomlist)\n",
        "\n",
        "#Step 4: Find the number\n",
        "count = 0\n",
        "positionlist = []\n",
        "for i in range(0,len(randomlist)):\n",
        "    if x == randomlist[i]:\n",
        "        count += 1\n",
        "        positionlist.append(i+1)\n",
        "if count == 0:\n",
        "    print(\"Not found\")\n",
        "else:\n",
        "    countloopstep = positionlist[0] + (count - 1)\n",
        "    print(\"The position list: \",positionlist)\n",
        "    print(\"The number of loop step to find this number: \",countloopstep)\n",
        "    "
      ],
      "execution_count": 5,
      "outputs": [
        {
          "output_type": "stream",
          "name": "stdout",
          "text": [
            "The number of list: 10\n",
            "Enter the range [a,b] to random\n",
            "Enter a: 0\n",
            "Enter b: 10\n",
            "random list:  [7, 6, 1, 1, 5, 0, 10, 3, 6, 7]\n",
            "Enter the number need to find (0 =< x <= 10): 1\n",
            "List after sort ascending order:  [0, 1, 1, 3, 5, 6, 6, 7, 7, 10]\n",
            "The position list:  [2, 3]\n",
            "The number of loop step to find this number:  3\n"
          ]
        }
      ]
    }
  ]
}